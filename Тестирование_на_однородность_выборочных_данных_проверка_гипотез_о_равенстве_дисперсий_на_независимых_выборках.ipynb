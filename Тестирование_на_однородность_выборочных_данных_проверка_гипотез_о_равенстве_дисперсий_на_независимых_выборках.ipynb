{
  "cells": [
    {
      "cell_type": "markdown",
      "metadata": {
        "id": "view-in-github",
        "colab_type": "text"
      },
      "source": [
        "<a href=\"https://colab.research.google.com/github/eleskin/Lab_01/blob/master/%D0%A2%D0%B5%D1%81%D1%82%D0%B8%D1%80%D0%BE%D0%B2%D0%B0%D0%BD%D0%B8%D0%B5_%D0%BD%D0%B0_%D0%BE%D0%B4%D0%BD%D0%BE%D1%80%D0%BE%D0%B4%D0%BD%D0%BE%D1%81%D1%82%D1%8C_%D0%B2%D1%8B%D0%B1%D0%BE%D1%80%D0%BE%D1%87%D0%BD%D1%8B%D1%85_%D0%B4%D0%B0%D0%BD%D0%BD%D1%8B%D1%85_%D0%BF%D1%80%D0%BE%D0%B2%D0%B5%D1%80%D0%BA%D0%B0_%D0%B3%D0%B8%D0%BF%D0%BE%D1%82%D0%B5%D0%B7_%D0%BE_%D1%80%D0%B0%D0%B2%D0%B5%D0%BD%D1%81%D1%82%D0%B2%D0%B5_%D0%B4%D0%B8%D1%81%D0%BF%D0%B5%D1%80%D1%81%D0%B8%D0%B9_%D0%BD%D0%B0_%D0%BD%D0%B5%D0%B7%D0%B0%D0%B2%D0%B8%D1%81%D0%B8%D0%BC%D1%8B%D1%85_%D0%B2%D1%8B%D0%B1%D0%BE%D1%80%D0%BA%D0%B0%D1%85.ipynb\" target=\"_parent\"><img src=\"https://colab.research.google.com/assets/colab-badge.svg\" alt=\"Open In Colab\"/></a>"
      ]
    },
    {
      "cell_type": "markdown",
      "source": [
        "### Тестирование на однородность выборочных данных: проверка гипотез о равенстве дисперсий на независимых выборках"
      ],
      "metadata": {
        "id": "ZEUOJIqQTUs2"
      }
    },
    {
      "cell_type": "markdown",
      "source": [
        "Пусть для двух независимых случайных величин, распределенных по нормальному закону распределения сформулированы нулевая и альтернативная гипотезы:\n",
        "Согласно нулевой гипотезе, генеральные дисперсии равны, согласно альтернативной гипотезе, дисперсии не равны."
      ],
      "metadata": {
        "id": "82PtcftBpRNv"
      }
    },
    {
      "cell_type": "code",
      "source": [
        "import numpy as np\n",
        "import scipy.stats"
      ],
      "metadata": {
        "id": "qpsIZxUeYMIt"
      },
      "execution_count": null,
      "outputs": []
    },
    {
      "cell_type": "code",
      "source": [
        "selectionA = [1, 4, 54, 2, 5, 5, 6, 33, 54, 21, 67, 2, 9, 5, 34, 67, 5, 65, 345, 5]\n",
        "selectionB = [3, 53, 565, 43, 66, 42, 55, 4, 4 , 43, 43, 56, 42, 79, 1, 3, 3, 56, 4, 12]"
      ],
      "metadata": {
        "id": "4tmK6o0LTTCJ"
      },
      "execution_count": null,
      "outputs": []
    },
    {
      "cell_type": "code",
      "source": [
        "alpha = 0.05\n",
        "df1 = len(selectionA) - 1\n",
        "df2 = len(selectionB) - 1"
      ],
      "metadata": {
        "id": "_q5WLmtGc_ib"
      },
      "execution_count": null,
      "outputs": []
    },
    {
      "cell_type": "code",
      "source": [
        "varianceA = np.var(selectionA)\n",
        "varianceB = np.var(selectionB)"
      ],
      "metadata": {
        "id": "8EFCMDOzW3lY"
      },
      "execution_count": null,
      "outputs": []
    },
    {
      "cell_type": "code",
      "source": [
        "if varianceA > varianceB :\n",
        "  f = varianceA / varianceB\n",
        "else :\n",
        "  f = varianceB / varianceA"
      ],
      "metadata": {
        "id": "OLZ-KyqTavgJ"
      },
      "execution_count": null,
      "outputs": []
    },
    {
      "cell_type": "code",
      "source": [
        "if f <= scipy.stats.f.ppf(1-alpha, df1, df2):\n",
        "  print('Нулевая гипотеза принимается')\n",
        "else:\n",
        "  print('Нулевая гипотеза отвергается')"
      ],
      "metadata": {
        "colab": {
          "base_uri": "https://localhost:8080/"
        },
        "id": "BwTNN6uPc9pY",
        "outputId": "558e86f6-262d-4c59-fa40-4504e9ef8a0b"
      },
      "execution_count": null,
      "outputs": [
        {
          "output_type": "stream",
          "name": "stdout",
          "text": [
            "Нулевая гипотеза отвергается\n"
          ]
        }
      ]
    }
  ],
  "metadata": {
    "colab": {
      "collapsed_sections": [],
      "name": "Тестирование на однородность выборочных данных: проверка гипотез о равенстве дисперсий на независимых выборках",
      "toc_visible": true,
      "provenance": [],
      "include_colab_link": true
    },
    "kernelspec": {
      "display_name": "Python 3",
      "name": "python3"
    }
  },
  "nbformat": 4,
  "nbformat_minor": 0
}